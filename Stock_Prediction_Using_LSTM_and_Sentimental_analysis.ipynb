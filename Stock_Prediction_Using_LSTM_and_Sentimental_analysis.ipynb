{
  "nbformat": 4,
  "nbformat_minor": 0,
  "metadata": {
    "colab": {
      "name": "Stock Prediction Using LSTM and Sentimental analysis.ipynb",
      "provenance": [],
      "collapsed_sections": []
    },
    "kernelspec": {
      "name": "python3",
      "display_name": "Python 3"
    },
    "accelerator": "GPU"
  },
  "cells": [
    {
      "cell_type": "code",
      "metadata": {
        "colab": {
          "base_uri": "https://localhost:8080/"
        },
        "id": "zatz-TiDX5d-",
        "outputId": "00749e96-96f1-48c1-86fd-1d9c20945870"
      },
      "source": [
        "!pip install yfinance"
      ],
      "execution_count": 1,
      "outputs": [
        {
          "output_type": "stream",
          "text": [
            "Collecting yfinance\n",
            "  Downloading https://files.pythonhosted.org/packages/7a/e8/b9d7104d3a4bf39924799067592d9e59119fcfc900a425a12e80a3123ec8/yfinance-0.1.55.tar.gz\n",
            "Requirement already satisfied: pandas>=0.24 in /usr/local/lib/python3.6/dist-packages (from yfinance) (1.1.5)\n",
            "Requirement already satisfied: numpy>=1.15 in /usr/local/lib/python3.6/dist-packages (from yfinance) (1.19.5)\n",
            "Requirement already satisfied: requests>=2.20 in /usr/local/lib/python3.6/dist-packages (from yfinance) (2.23.0)\n",
            "Requirement already satisfied: multitasking>=0.0.7 in /usr/local/lib/python3.6/dist-packages (from yfinance) (0.0.9)\n",
            "Collecting lxml>=4.5.1\n",
            "\u001b[?25l  Downloading https://files.pythonhosted.org/packages/bd/78/56a7c88a57d0d14945472535d0df9fb4bbad7d34ede658ec7961635c790e/lxml-4.6.2-cp36-cp36m-manylinux1_x86_64.whl (5.5MB)\n",
            "\u001b[K     |████████████████████████████████| 5.5MB 17.5MB/s \n",
            "\u001b[?25hRequirement already satisfied: python-dateutil>=2.7.3 in /usr/local/lib/python3.6/dist-packages (from pandas>=0.24->yfinance) (2.8.1)\n",
            "Requirement already satisfied: pytz>=2017.2 in /usr/local/lib/python3.6/dist-packages (from pandas>=0.24->yfinance) (2018.9)\n",
            "Requirement already satisfied: certifi>=2017.4.17 in /usr/local/lib/python3.6/dist-packages (from requests>=2.20->yfinance) (2020.12.5)\n",
            "Requirement already satisfied: chardet<4,>=3.0.2 in /usr/local/lib/python3.6/dist-packages (from requests>=2.20->yfinance) (3.0.4)\n",
            "Requirement already satisfied: urllib3!=1.25.0,!=1.25.1,<1.26,>=1.21.1 in /usr/local/lib/python3.6/dist-packages (from requests>=2.20->yfinance) (1.24.3)\n",
            "Requirement already satisfied: idna<3,>=2.5 in /usr/local/lib/python3.6/dist-packages (from requests>=2.20->yfinance) (2.10)\n",
            "Requirement already satisfied: six>=1.5 in /usr/local/lib/python3.6/dist-packages (from python-dateutil>=2.7.3->pandas>=0.24->yfinance) (1.15.0)\n",
            "Building wheels for collected packages: yfinance\n",
            "  Building wheel for yfinance (setup.py) ... \u001b[?25l\u001b[?25hdone\n",
            "  Created wheel for yfinance: filename=yfinance-0.1.55-py2.py3-none-any.whl size=22616 sha256=c84d74e43dace2cb2e376bddd20e8c0e7b6e17a471ad840fe219c8491f32067e\n",
            "  Stored in directory: /root/.cache/pip/wheels/04/98/cc/2702a4242d60bdc14f48b4557c427ded1fe92aedf257d4565c\n",
            "Successfully built yfinance\n",
            "Installing collected packages: lxml, yfinance\n",
            "  Found existing installation: lxml 4.2.6\n",
            "    Uninstalling lxml-4.2.6:\n",
            "      Successfully uninstalled lxml-4.2.6\n",
            "Successfully installed lxml-4.6.2 yfinance-0.1.55\n"
          ],
          "name": "stdout"
        }
      ]
    },
    {
      "cell_type": "markdown",
      "metadata": {
        "id": "ZST-qS20YEFz"
      },
      "source": [
        "**LOAD THE NECESSARY LIBRARIES**"
      ]
    },
    {
      "cell_type": "code",
      "metadata": {
        "id": "SL1o58KQYIx_"
      },
      "source": [
        "import math\n",
        "import numpy as np\n",
        "import pandas as pd\n",
        "import pandas_datareader as web\n",
        "import matplotlib.pyplot as plt\n",
        "import yfinance as yf"
      ],
      "execution_count": 88,
      "outputs": []
    },
    {
      "cell_type": "code",
      "metadata": {
        "colab": {
          "base_uri": "https://localhost:8080/",
          "height": 235
        },
        "id": "aXlKgOQ_Ya6J",
        "outputId": "48718f2c-1bb2-478f-fcda-b520c61a3690"
      },
      "source": [
        "df=web.DataReader(\"MSFT\",data_source='yahoo',start='01-01-2012',end='17-12-2020')         # Stock used -> Microsoft\n",
        "df.head()"
      ],
      "execution_count": 118,
      "outputs": [
        {
          "output_type": "execute_result",
          "data": {
            "text/html": [
              "<div>\n",
              "<style scoped>\n",
              "    .dataframe tbody tr th:only-of-type {\n",
              "        vertical-align: middle;\n",
              "    }\n",
              "\n",
              "    .dataframe tbody tr th {\n",
              "        vertical-align: top;\n",
              "    }\n",
              "\n",
              "    .dataframe thead th {\n",
              "        text-align: right;\n",
              "    }\n",
              "</style>\n",
              "<table border=\"1\" class=\"dataframe\">\n",
              "  <thead>\n",
              "    <tr style=\"text-align: right;\">\n",
              "      <th></th>\n",
              "      <th>High</th>\n",
              "      <th>Low</th>\n",
              "      <th>Open</th>\n",
              "      <th>Close</th>\n",
              "      <th>Volume</th>\n",
              "      <th>Adj Close</th>\n",
              "    </tr>\n",
              "    <tr>\n",
              "      <th>Date</th>\n",
              "      <th></th>\n",
              "      <th></th>\n",
              "      <th></th>\n",
              "      <th></th>\n",
              "      <th></th>\n",
              "      <th></th>\n",
              "    </tr>\n",
              "  </thead>\n",
              "  <tbody>\n",
              "    <tr>\n",
              "      <th>2012-01-03</th>\n",
              "      <td>26.959999</td>\n",
              "      <td>26.389999</td>\n",
              "      <td>26.549999</td>\n",
              "      <td>26.770000</td>\n",
              "      <td>64731500.0</td>\n",
              "      <td>21.849474</td>\n",
              "    </tr>\n",
              "    <tr>\n",
              "      <th>2012-01-04</th>\n",
              "      <td>27.469999</td>\n",
              "      <td>26.780001</td>\n",
              "      <td>26.820000</td>\n",
              "      <td>27.400000</td>\n",
              "      <td>80516100.0</td>\n",
              "      <td>22.363672</td>\n",
              "    </tr>\n",
              "    <tr>\n",
              "      <th>2012-01-05</th>\n",
              "      <td>27.730000</td>\n",
              "      <td>27.290001</td>\n",
              "      <td>27.379999</td>\n",
              "      <td>27.680000</td>\n",
              "      <td>56081400.0</td>\n",
              "      <td>22.592201</td>\n",
              "    </tr>\n",
              "    <tr>\n",
              "      <th>2012-01-06</th>\n",
              "      <td>28.190001</td>\n",
              "      <td>27.530001</td>\n",
              "      <td>27.530001</td>\n",
              "      <td>28.110001</td>\n",
              "      <td>99455500.0</td>\n",
              "      <td>22.943169</td>\n",
              "    </tr>\n",
              "    <tr>\n",
              "      <th>2012-01-09</th>\n",
              "      <td>28.100000</td>\n",
              "      <td>27.719999</td>\n",
              "      <td>28.049999</td>\n",
              "      <td>27.740000</td>\n",
              "      <td>59706800.0</td>\n",
              "      <td>22.641172</td>\n",
              "    </tr>\n",
              "  </tbody>\n",
              "</table>\n",
              "</div>"
            ],
            "text/plain": [
              "                 High        Low       Open      Close      Volume  Adj Close\n",
              "Date                                                                         \n",
              "2012-01-03  26.959999  26.389999  26.549999  26.770000  64731500.0  21.849474\n",
              "2012-01-04  27.469999  26.780001  26.820000  27.400000  80516100.0  22.363672\n",
              "2012-01-05  27.730000  27.290001  27.379999  27.680000  56081400.0  22.592201\n",
              "2012-01-06  28.190001  27.530001  27.530001  28.110001  99455500.0  22.943169\n",
              "2012-01-09  28.100000  27.719999  28.049999  27.740000  59706800.0  22.641172"
            ]
          },
          "metadata": {
            "tags": []
          },
          "execution_count": 118
        }
      ]
    },
    {
      "cell_type": "code",
      "metadata": {
        "colab": {
          "base_uri": "https://localhost:8080/"
        },
        "id": "WCm_BPjPZALl",
        "outputId": "feb0d4cf-711e-471e-d509-9acdf964eacd"
      },
      "source": [
        "df.shape"
      ],
      "execution_count": 119,
      "outputs": [
        {
          "output_type": "execute_result",
          "data": {
            "text/plain": [
              "(2256, 6)"
            ]
          },
          "metadata": {
            "tags": []
          },
          "execution_count": 119
        }
      ]
    },
    {
      "cell_type": "code",
      "metadata": {
        "colab": {
          "base_uri": "https://localhost:8080/",
          "height": 400
        },
        "id": "v9KOqqCrY9GD",
        "outputId": "0f39c0ac-daae-450a-8ab7-5769960e15cd"
      },
      "source": [
        "plt.style.use('fivethirtyeight')\n",
        "plt.figure(1,(10,5))\n",
        "graph=plt.plot(df['Close'])\n",
        "plt.xlabel(\"Year\")\n",
        "plt.ylabel(\"Closing price ($)\")\n",
        "plt.title(\"Graph of Closing price\")"
      ],
      "execution_count": 120,
      "outputs": [
        {
          "output_type": "execute_result",
          "data": {
            "text/plain": [
              "Text(0.5, 1.0, 'Graph of Closing price')"
            ]
          },
          "metadata": {
            "tags": []
          },
          "execution_count": 120
        },
        {
          "output_type": "display_data",
          "data": {
            "image/png": "[encoded data removed]",
            "text/plain": [
              "<Figure size 720x360 with 1 Axes>"
            ]
          },
          "metadata": {
            "tags": []
          }
        }
      ]
    },
    {
      "cell_type": "markdown",
      "metadata": {
        "id": "OiIjVv6ycoJM"
      },
      "source": [
        "**Create the dataframe for close price**"
      ]
    },
    {
      "cell_type": "code",
      "metadata": {
        "colab": {
          "base_uri": "https://localhost:8080/"
        },
        "id": "HIPxPD0mcJhu",
        "outputId": "6cd134f0-2385-4760-e896-014d9771c17c"
      },
      "source": [
        "data=df.filter(['Close'])\n",
        "dataset=data.values\n",
        "training_data_len=math.ceil(len(dataset)*0.8)\n",
        "#test_len=len(data)-train_len\n",
        "print(\"train_len=\",training_data_len)\n",
        "#print(\"test_len=\",test_len)\n",
        "#type(dataset)"
      ],
      "execution_count": 141,
      "outputs": [
        {
          "output_type": "stream",
          "text": [
            "train_len= 1805\n"
          ],
          "name": "stdout"
        }
      ]
    },
    {
      "cell_type": "markdown",
      "metadata": {
        "id": "gBPjsNX-juhb"
      },
      "source": [
        "**Scaling the data**"
      ]
    },
    {
      "cell_type": "code",
      "metadata": {
        "id": "iz0q0jM6gQop"
      },
      "source": [
        "from sklearn.preprocessing import MinMaxScaler"
      ],
      "execution_count": 122,
      "outputs": []
    },
    {
      "cell_type": "code",
      "metadata": {
        "id": "TKxZ-0SxgReX",
        "colab": {
          "base_uri": "https://localhost:8080/"
        },
        "outputId": "7451ff08-5536-4d58-ab1a-ee9d53b5f3d5"
      },
      "source": [
        "scaler=MinMaxScaler(feature_range=(0,1),copy=True)\n",
        "scaled_data=scaler.fit_transform(dataset)\n",
        "scaled_data"
      ],
      "execution_count": 123,
      "outputs": [
        {
          "output_type": "execute_result",
          "data": {
            "text/plain": [
              "array([[0.00194856],\n",
              "       [0.00501753],\n",
              "       [0.00638153],\n",
              "       ...,\n",
              "       [0.91465321],\n",
              "       [0.93974086],\n",
              "       [0.94042286]])"
            ]
          },
          "metadata": {
            "tags": []
          },
          "execution_count": 123
        }
      ]
    },
    {
      "cell_type": "code",
      "metadata": {
        "id": "bMWfdF0wZwCS"
      },
      "source": [
        "train_data=scaled_data[0:training_data_len,:]"
      ],
      "execution_count": 125,
      "outputs": []
    },
    {
      "cell_type": "code",
      "metadata": {
        "colab": {
          "base_uri": "https://localhost:8080/"
        },
        "id": "rau-2cfslvFA",
        "outputId": "34e30ee8-9cb6-4f51-a9d5-7264e61d03bb"
      },
      "source": [
        "x_train,y_train=[],[]\n",
        "for i in range(60,len(train_data)):                 #for the next 60 days\n",
        "  x_train.append(train_data[i-60:i,0])\n",
        "  y_train.append(train_data[i,0])\n",
        "  if i<=60:\n",
        "    print(\"x_train\",x_train)\n",
        "    print(\"y_train\",y_train)\n",
        "    print()"
      ],
      "execution_count": 126,
      "outputs": [
        {
          "output_type": "stream",
          "text": [
            "x_train [array([0.00194856, 0.00501753, 0.00638153, 0.00847623, 0.00667381,\n",
            "       0.00716095, 0.00657638, 0.00794037, 0.00915822, 0.00920693,\n",
            "       0.00906079, 0.00852494, 0.01627045, 0.01636788, 0.01446804,\n",
            "       0.01553974, 0.01524746, 0.01393218, 0.01578332, 0.01539361,\n",
            "       0.0171473 , 0.01743959, 0.01885229, 0.01865744, 0.01938815,\n",
            "       0.02089828, 0.02143414, 0.02011886, 0.02050857, 0.01890101,\n",
            "       0.01792673, 0.02396727, 0.02377241, 0.02469797, 0.02386984,\n",
            "       0.02435698, 0.02489282, 0.02425955, 0.02679267, 0.02615939,\n",
            "       0.02883866, 0.02781567, 0.02645167, 0.02528254, 0.02664653,\n",
            "       0.02747466, 0.02737724, 0.02762081, 0.03068978, 0.03117693,\n",
            "       0.03156663, 0.03034878, 0.02840023, 0.02737724, 0.02698753,\n",
            "       0.02742595, 0.02747466, 0.03030008, 0.02995908, 0.02835151])]\n",
            "y_train [0.028010513869453108]\n",
            "\n"
          ],
          "name": "stdout"
        }
      ]
    },
    {
      "cell_type": "code",
      "metadata": {
        "colab": {
          "base_uri": "https://localhost:8080/"
        },
        "id": "pXFzK5oStXPc",
        "outputId": "ad9c2746-5535-4bf7-9626-dc04d9e04d97"
      },
      "source": [
        "type(x_train)   #list"
      ],
      "execution_count": 97,
      "outputs": [
        {
          "output_type": "execute_result",
          "data": {
            "text/plain": [
              "list"
            ]
          },
          "metadata": {
            "tags": []
          },
          "execution_count": 97
        }
      ]
    },
    {
      "cell_type": "markdown",
      "metadata": {
        "id": "vUbDb0ojIivO"
      },
      "source": [
        "**Reshaping x_train**"
      ]
    },
    {
      "cell_type": "code",
      "metadata": {
        "colab": {
          "base_uri": "https://localhost:8080/"
        },
        "id": "F43QEzpzsoja",
        "outputId": "8ad4e71e-0d7d-4e11-d1cb-ad65b71e8d0c"
      },
      "source": [
        "x_train,y_train=np.array(x_train),np.array(y_train)     #convert into array to use in lstm model\n",
        "x_train=np.reshape(x_train,(x_train.shape[0],x_train.shape[1],1))\n",
        "x_train.shape"
      ],
      "execution_count": 127,
      "outputs": [
        {
          "output_type": "execute_result",
          "data": {
            "text/plain": [
              "(1745, 60, 1)"
            ]
          },
          "metadata": {
            "tags": []
          },
          "execution_count": 127
        }
      ]
    },
    {
      "cell_type": "markdown",
      "metadata": {
        "id": "qK3ToxdBKQWU"
      },
      "source": [
        "**LSTM Model**"
      ]
    },
    {
      "cell_type": "code",
      "metadata": {
        "id": "vuVQ2rQkOLKb"
      },
      "source": [
        "from keras.models import Sequential\n",
        "from keras.layers import Dense, LSTM"
      ],
      "execution_count": 128,
      "outputs": []
    },
    {
      "cell_type": "code",
      "metadata": {
        "id": "l-bAHX52KVOI"
      },
      "source": [
        "model=Sequential()\n",
        "model.add(LSTM(50, return_sequences=True, input_shape=(x_train.shape[1],1)))\n",
        "model.add(LSTM(50, return_sequences=False))\n",
        "model.add(Dense(25))\n",
        "model.add(Dense(1))"
      ],
      "execution_count": 129,
      "outputs": []
    },
    {
      "cell_type": "code",
      "metadata": {
        "id": "4bkyzXTIOhW5"
      },
      "source": [
        "model.compile(optimizer='adam',loss='mean_squared_error')"
      ],
      "execution_count": 130,
      "outputs": []
    },
    {
      "cell_type": "code",
      "metadata": {
        "colab": {
          "base_uri": "https://localhost:8080/"
        },
        "id": "ycSkNZhLO1jC",
        "outputId": "c5f2bd34-04d6-44f7-fba1-6327a7be29ba"
      },
      "source": [
        "model.fit(x_train,y_train,batch_size=1,epochs=5)"
      ],
      "execution_count": 131,
      "outputs": [
        {
          "output_type": "stream",
          "text": [
            "Epoch 1/5\n",
            "1745/1745 [==============================] - 12s 5ms/step - loss: 5.2968e-04\n",
            "Epoch 2/5\n",
            "1745/1745 [==============================] - 10s 6ms/step - loss: 1.2487e-04\n",
            "Epoch 3/5\n",
            "1745/1745 [==============================] - 10s 5ms/step - loss: 1.0553e-04\n",
            "Epoch 4/5\n",
            "1745/1745 [==============================] - 10s 5ms/step - loss: 1.0723e-04\n",
            "Epoch 5/5\n",
            "1745/1745 [==============================] - 10s 5ms/step - loss: 7.3019e-05\n"
          ],
          "name": "stdout"
        },
        {
          "output_type": "execute_result",
          "data": {
            "text/plain": [
              "<tensorflow.python.keras.callbacks.History at 0x7fbf8ba11588>"
            ]
          },
          "metadata": {
            "tags": []
          },
          "execution_count": 131
        }
      ]
    },
    {
      "cell_type": "code",
      "metadata": {
        "colab": {
          "base_uri": "https://localhost:8080/"
        },
        "id": "cyAiawF9PclN",
        "outputId": "62a2c6db-1e2b-4a15-a91b-eb7b5cff2646"
      },
      "source": [
        "test_data=scaled_data[training_data_len-60:,:]\n",
        "x_test=[]\n",
        "y_test=dataset[training_data_len:,:]\n",
        "for i in range(60,len(test_data)):\n",
        "  x_test.append(test_data[i-60:i,0])\n",
        "type(y_test) "
      ],
      "execution_count": 132,
      "outputs": [
        {
          "output_type": "execute_result",
          "data": {
            "text/plain": [
              "numpy.ndarray"
            ]
          },
          "metadata": {
            "tags": []
          },
          "execution_count": 132
        }
      ]
    },
    {
      "cell_type": "code",
      "metadata": {
        "colab": {
          "base_uri": "https://localhost:8080/"
        },
        "id": "lyltNwUMSQGK",
        "outputId": "63e8039c-a813-4719-a3f4-a2e97d41a90e"
      },
      "source": [
        "#convert into array X_test\n",
        "x_test=np.array(x_test)\n",
        "#reshape it\n",
        "x_test=np.reshape(x_test,(x_test.shape[0],x_test.shape[1],1))\n",
        "x_test.shape"
      ],
      "execution_count": 133,
      "outputs": [
        {
          "output_type": "execute_result",
          "data": {
            "text/plain": [
              "(451, 60, 1)"
            ]
          },
          "metadata": {
            "tags": []
          },
          "execution_count": 133
        }
      ]
    },
    {
      "cell_type": "code",
      "metadata": {
        "id": "lVBnlS5VVFYe"
      },
      "source": [
        "predictions=model.predict(x_test)\n",
        "predictions=scaler.inverse_transform(predictions)   "
      ],
      "execution_count": 134,
      "outputs": []
    },
    {
      "cell_type": "code",
      "metadata": {
        "colab": {
          "base_uri": "https://localhost:8080/"
        },
        "id": "I6hw6PpncCXu",
        "outputId": "8fbc6e37-584d-453f-df71-a27d1a0541d5"
      },
      "source": [
        "rmse=np.sqrt(np.mean(predictions-y_test)**2)\n",
        "rmse"
      ],
      "execution_count": 135,
      "outputs": [
        {
          "output_type": "execute_result",
          "data": {
            "text/plain": [
              "1.0639033518450751"
            ]
          },
          "metadata": {
            "tags": []
          },
          "execution_count": 135
        }
      ]
    },
    {
      "cell_type": "code",
      "metadata": {
        "colab": {
          "base_uri": "https://localhost:8080/",
          "height": 464
        },
        "id": "NEREKqlacVQb",
        "outputId": "6fa9dfeb-c582-43ed-859f-2248c6d9994c"
      },
      "source": [
        "train1=data[:training_data_len]\n",
        "validation=data[training_data_len:]\n",
        "validation['Predictions']=predictions\n",
        "plt.figure(figsize=(15,5))\n",
        "plt.xlabel(\"DATE\")\n",
        "plt.ylabel(\"Closing Price($)\")\n",
        "plt.plot(df['Close'])\n",
        "plt.plot(validation[['Close','Predictions']])\n",
        "plt.legend(['Train','Valid','Predictions'],loc='lower right')\n",
        "plt.show()"
      ],
      "execution_count": 136,
      "outputs": [
        {
          "output_type": "stream",
          "text": [
            "/usr/local/lib/python3.6/dist-packages/ipykernel_launcher.py:3: SettingWithCopyWarning: \n",
            "A value is trying to be set on a copy of a slice from a DataFrame.\n",
            "Try using .loc[row_indexer,col_indexer] = value instead\n",
            "\n",
            "See the caveats in the documentation: https://pandas.pydata.org/pandas-docs/stable/user_guide/indexing.html#returning-a-view-versus-a-copy\n",
            "  This is separate from the ipykernel package so we can avoid doing imports until\n"
          ],
          "name": "stderr"
        },
        {
          "output_type": "display_data",
          "data": {
            "image/png": "[encoded data removed]",
            "text/plain": [
              "<Figure size 1080x360 with 1 Axes>"
            ]
          },
          "metadata": {
            "tags": []
          }
        }
      ]
    },
    {
      "cell_type": "markdown",
      "metadata": {
        "id": "QE5uNroDd79H"
      },
      "source": [
        "**Prediction value of the next day**"
      ]
    },
    {
      "cell_type": "code",
      "metadata": {
        "colab": {
          "base_uri": "https://localhost:8080/"
        },
        "id": "tQ_AIgspeQXq",
        "outputId": "72e91224-a3c3-4351-d7d4-bfcc72e3ae3b"
      },
      "source": [
        "sample=web.DataReader('MSFT',data_source='yahoo',start='01-01-2012',end='17-12-2020')\n",
        "new_df=sample.filter(['Close'])\n",
        "last_60_days=new_df[-60:].values\n",
        "last_60_days_scaled=scaler.transform(last_60_days)\n",
        "X_test=[]\n",
        "X_test.append(last_60_days_scaled)\n",
        "X_test=np.array(X_test)\n",
        "X_test=np.reshape(X_test,(X_test.shape[0],X_test.shape[1],1))\n",
        "pred_price=model.predict(X_test)\n",
        "pred_price=scaler.inverse_transform(pred_price)\n",
        "print(pred_price)"
      ],
      "execution_count": 137,
      "outputs": [
        {
          "output_type": "stream",
          "text": [
            "[[217.65282]]\n"
          ],
          "name": "stdout"
        }
      ]
    },
    {
      "cell_type": "markdown",
      "metadata": {
        "id": "ppJYW2q5eB8Y"
      },
      "source": [
        "**Actual price on that day**"
      ]
    },
    {
      "cell_type": "code",
      "metadata": {
        "colab": {
          "base_uri": "https://localhost:8080/"
        },
        "id": "A4eroSa-demZ",
        "outputId": "9b21ffd7-913e-4d0e-f297-81f8b607488a"
      },
      "source": [
        "sample2=web.DataReader('MSFT',data_source='yahoo',start='18-12-2020',end='18-12-2020')\n",
        "print(sample2['Close'])"
      ],
      "execution_count": 139,
      "outputs": [
        {
          "output_type": "stream",
          "text": [
            "Date\n",
            "2020-12-18    218.589996\n",
            "Name: Close, dtype: float64\n"
          ],
          "name": "stdout"
        }
      ]
    },
    {
      "cell_type": "markdown",
      "metadata": {
        "id": "678HWazkeBbn"
      },
      "source": [
        "**Sentimental Analysis on Stocks**"
      ]
    },
    {
      "cell_type": "code",
      "metadata": {
        "colab": {
          "base_uri": "https://localhost:8080/"
        },
        "id": "ospRlzhoWtux",
        "outputId": "1afa7e20-a162-46f8-d444-92773a346dbc"
      },
      "source": [
        "from urllib.request import urlopen, Request\n",
        "import pandas as pd\n",
        "from bs4 import BeautifulSoup\n",
        "import matplotlib.pyplot as plt\n",
        "%matplotlib inline\n",
        "# NLTK VADER for sentiment analysis\n",
        "from nltk.sentiment.vader import SentimentIntensityAnalyzer\n",
        "import nltk\n",
        "nltk.downloader.download('vader_lexicon')\n",
        "\n",
        "finwiz_url = 'https://finviz.com/quote.ashx?t='"
      ],
      "execution_count": 116,
      "outputs": [
        {
          "output_type": "stream",
          "text": [
            "[nltk_data] Downloading package vader_lexicon to /root/nltk_data...\n",
            "[nltk_data]   Package vader_lexicon is already up-to-date!\n"
          ],
          "name": "stdout"
        }
      ]
    },
    {
      "cell_type": "code",
      "metadata": {
        "id": "pbRMKFdUWwC0"
      },
      "source": [
        "news_tables = {}\n",
        "tickers = ['AMZN', 'TSLA', 'GOOG']\n",
        "\n",
        "for ticker in tickers:\n",
        "    url = finwiz_url + ticker\n",
        "    req = Request(url=url,headers={'user-agent': 'my-app/0.0.1'}) \n",
        "    response = urlopen(req)    \n",
        "    html = BeautifulSoup(response)\n",
        "    news_table = html.find(id='news-table')\n",
        "    news_tables[ticker] = news_table"
      ],
      "execution_count": 117,
      "outputs": []
    },
    {
      "cell_type": "code",
      "metadata": {
        "colab": {
          "base_uri": "https://localhost:8080/"
        },
        "id": "4xa8ovcwXAi9",
        "outputId": "999efc76-b0ed-449b-d868-1da137b6aa62"
      },
      "source": [
        "amzn = news_tables['AMZN']\n",
        "\n",
        "amzn_tr = amzn.findAll('tr')\n",
        "\n",
        "for i, table_row in enumerate(amzn_tr):\n",
        "    a_text = table_row.a.text\n",
        "    td_text = table_row.td.text\n",
        "    print(a_text)\n",
        "    print(td_text)\n",
        "    if i == 2:\n",
        "        break"
      ],
      "execution_count": 85,
      "outputs": [
        {
          "output_type": "stream",
          "text": [
            "Dow Jones Futures: Stock Market Rally Ready For A Melt Up? Analyzing Apple, Amazon, Palantir\n",
            "Feb-12-21 09:15PM  \n",
            "A Look at Cerence's Results\n",
            "04:35PM  \n",
            "Google, Microsoft, Qualcomm Protest Nvidias Acquisition of Arm Ltd.\n",
            "04:34PM  \n"
          ],
          "name": "stdout"
        }
      ]
    },
    {
      "cell_type": "code",
      "metadata": {
        "id": "wFANs1t2XRxY"
      },
      "source": [
        "parsed_news = []\n",
        "\n",
        "for file_name, news_table in news_tables.items():\n",
        "    for x in news_table.findAll('tr'):\n",
        "        text = x.a.get_text() \n",
        "        date_scrape = x.td.text.split()\n",
        "        if len(date_scrape) == 1:\n",
        "            time = date_scrape[0]  \n",
        "        else:\n",
        "            date = date_scrape[0]\n",
        "            time = date_scrape[1]\n",
        "        ticker = file_name.split('_')[0]\n",
        "        parsed_news.append([ticker, date, time, text])\n",
        "        "
      ],
      "execution_count": 86,
      "outputs": []
    },
    {
      "cell_type": "code",
      "metadata": {
        "colab": {
          "base_uri": "https://localhost:8080/",
          "height": 204
        },
        "id": "oq7-A2oQXVok",
        "outputId": "de7121b2-16f7-479c-9f06-3d1b6960819e"
      },
      "source": [
        "vader = SentimentIntensityAnalyzer()\n",
        "\n",
        "# Set column names\n",
        "columns = ['ticker', 'date', 'time', 'headline']\n",
        "\n",
        "parsed_and_scored_news = pd.DataFrame(parsed_news, columns=columns)\n",
        "\n",
        "scores = parsed_and_scored_news['headline'].apply(vader.polarity_scores).tolist()\n",
        "scores_df = pd.DataFrame(scores)\n",
        "\n",
        "parsed_and_scored_news = parsed_and_scored_news.join(scores_df, rsuffix='_right')\n",
        "\n",
        "parsed_and_scored_news['date'] = pd.to_datetime(parsed_and_scored_news.date).dt.date\n",
        "\n",
        "parsed_and_scored_news.head()"
      ],
      "execution_count": 87,
      "outputs": [
        {
          "output_type": "execute_result",
          "data": {
            "text/html": [
              "<div>\n",
              "<style scoped>\n",
              "    .dataframe tbody tr th:only-of-type {\n",
              "        vertical-align: middle;\n",
              "    }\n",
              "\n",
              "    .dataframe tbody tr th {\n",
              "        vertical-align: top;\n",
              "    }\n",
              "\n",
              "    .dataframe thead th {\n",
              "        text-align: right;\n",
              "    }\n",
              "</style>\n",
              "<table border=\"1\" class=\"dataframe\">\n",
              "  <thead>\n",
              "    <tr style=\"text-align: right;\">\n",
              "      <th></th>\n",
              "      <th>ticker</th>\n",
              "      <th>date</th>\n",
              "      <th>time</th>\n",
              "      <th>headline</th>\n",
              "      <th>neg</th>\n",
              "      <th>neu</th>\n",
              "      <th>pos</th>\n",
              "      <th>compound</th>\n",
              "    </tr>\n",
              "  </thead>\n",
              "  <tbody>\n",
              "    <tr>\n",
              "      <th>0</th>\n",
              "      <td>AMZN</td>\n",
              "      <td>2021-02-12</td>\n",
              "      <td>09:15PM</td>\n",
              "      <td>Dow Jones Futures: Stock Market Rally Ready For A Melt Up? Analyzing Apple, Amazon, Palantir</td>\n",
              "      <td>0.0</td>\n",
              "      <td>0.741</td>\n",
              "      <td>0.259</td>\n",
              "      <td>0.4939</td>\n",
              "    </tr>\n",
              "    <tr>\n",
              "      <th>1</th>\n",
              "      <td>AMZN</td>\n",
              "      <td>2021-02-12</td>\n",
              "      <td>04:35PM</td>\n",
              "      <td>A Look at Cerence's Results</td>\n",
              "      <td>0.0</td>\n",
              "      <td>1.000</td>\n",
              "      <td>0.000</td>\n",
              "      <td>0.0000</td>\n",
              "    </tr>\n",
              "    <tr>\n",
              "      <th>2</th>\n",
              "      <td>AMZN</td>\n",
              "      <td>2021-02-12</td>\n",
              "      <td>04:34PM</td>\n",
              "      <td>Google, Microsoft, Qualcomm Protest Nvidias Acquisition of Arm Ltd.</td>\n",
              "      <td>0.2</td>\n",
              "      <td>0.800</td>\n",
              "      <td>0.000</td>\n",
              "      <td>-0.2500</td>\n",
              "    </tr>\n",
              "    <tr>\n",
              "      <th>3</th>\n",
              "      <td>AMZN</td>\n",
              "      <td>2021-02-12</td>\n",
              "      <td>03:00PM</td>\n",
              "      <td>Amazon Stock: Is It A Buy As Jeff Bezos Sets Plan To Relinquish CEO Role</td>\n",
              "      <td>0.0</td>\n",
              "      <td>0.884</td>\n",
              "      <td>0.116</td>\n",
              "      <td>0.1779</td>\n",
              "    </tr>\n",
              "    <tr>\n",
              "      <th>4</th>\n",
              "      <td>AMZN</td>\n",
              "      <td>2021-02-12</td>\n",
              "      <td>02:36PM</td>\n",
              "      <td>A Look at What's Going on With SpaceX</td>\n",
              "      <td>0.0</td>\n",
              "      <td>1.000</td>\n",
              "      <td>0.000</td>\n",
              "      <td>0.0000</td>\n",
              "    </tr>\n",
              "  </tbody>\n",
              "</table>\n",
              "</div>"
            ],
            "text/plain": [
              "  ticker        date     time  ...    neu    pos  compound\n",
              "0   AMZN  2021-02-12  09:15PM  ...  0.741  0.259    0.4939\n",
              "1   AMZN  2021-02-12  04:35PM  ...  1.000  0.000    0.0000\n",
              "2   AMZN  2021-02-12  04:34PM  ...  0.800  0.000   -0.2500\n",
              "3   AMZN  2021-02-12  03:00PM  ...  0.884  0.116    0.1779\n",
              "4   AMZN  2021-02-12  02:36PM  ...  1.000  0.000    0.0000\n",
              "\n",
              "[5 rows x 8 columns]"
            ]
          },
          "metadata": {
            "tags": []
          },
          "execution_count": 87
        }
      ]
    }
  ]
}